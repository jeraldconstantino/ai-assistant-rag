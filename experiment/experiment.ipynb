{
 "cells": [
  {
   "cell_type": "code",
   "execution_count": null,
   "id": "126bd7f3",
   "metadata": {},
   "outputs": [],
   "source": [
    "import os \n",
    "import shutil\n",
    "from langchain.document_loaders import DirectoryLoader, PyPDFLoader\n",
    "from langchain_text_splitters.character import RecursiveCharacterTextSplitter\n",
    "from langchain_community.vectorstores import Chroma\n",
    "# from langchain_community.embeddings import HuggingFaceEmbeddings\n",
    "from langchain_community.embeddings import OpenAIEmbeddings"
   ]
  },
  {
   "cell_type": "markdown",
   "id": "79aa7b0b",
   "metadata": {},
   "source": [
    "# Ingestion Pipeline"
   ]
  },
  {
   "cell_type": "code",
   "execution_count": 2,
   "id": "fb522a45",
   "metadata": {},
   "outputs": [],
   "source": [
    "DATA_PATH = \"data\"\n",
    "\n",
    "def load_documents():\n",
    "    \"\"\"Load PDF documents from the specified directory.\"\"\"\n",
    "    loader = DirectoryLoader(DATA_PATH, glob=\"*.pdf\", loader_cls=PyPDFLoader)\n",
    "    documents = loader.load()\n",
    "    return documents"
   ]
  },
  {
   "cell_type": "code",
   "execution_count": 3,
   "id": "281b9abd",
   "metadata": {},
   "outputs": [
    {
     "name": "stdout",
     "output_type": "stream",
     "text": [
      "Number of documents loaded: 85\n",
      "Number of chunks created: 533\n"
     ]
    }
   ],
   "source": [
    "text_splitter = RecursiveCharacterTextSplitter(\n",
    "\tchunk_size=1000,\n",
    "\tchunk_overlap=500,\n",
    "\tlength_function=len,\n",
    "\tadd_start_index=True\n",
    ")\n",
    "\n",
    "documents = load_documents()\n",
    "chunks = text_splitter.split_documents(documents)\n",
    "\n",
    "print(f\"Number of documents loaded: {len(documents)}\")\n",
    "print(f\"Number of chunks created: {len(chunks)}\")"
   ]
  },
  {
   "cell_type": "code",
   "execution_count": 4,
   "id": "66073d47",
   "metadata": {},
   "outputs": [
    {
     "name": "stdout",
     "output_type": "stream",
     "text": [
      "Chunk 0:\n",
      "Chunk text: 1 \n",
      "Dear shareholders, colleagues, customers, and partners,  \n",
      "We are living through a time of historic challenge and opportunity. As I write this, the world faces ongoing economic, social, \n",
      "and geopolitical volatility. At the same time, we have entered a new age of AI that will fundamentally transform productivity  \n",
      "for every individual, organization, and industry on earth, and help us address some of our most pressing challenges.  \n",
      "This next generation of AI will reshape every software category and every business, including our own. Forty -eight years \n",
      "after its founding, Microsoft remains a consequential company because time and time again —from PC/Server, to \n",
      "Web/Internet, to Cloud/Mobile—we have adapted to technological paradigm shifts. Today, we are doing so once again, as \n",
      "we lead this new era.  \n",
      "Amid this transformation, our mission to empower every person and every organization on the planet to achieve...\n",
      "Chunk 1:\n",
      "Chunk text: This next generation of AI will reshape every software category and every business, including our own. Forty -eight years \n",
      "after its founding, Microsoft remains a consequential company because time and time again —from PC/Server, to \n",
      "Web/Internet, to Cloud/Mobile—we have adapted to technological paradigm shifts. Today, we are doing so once again, as \n",
      "we lead this new era.  \n",
      "Amid this transformation, our mission to empower every person and every organization on the planet to achieve \n",
      "more remains constant. As a company, we believe we can be the democratizing force for this new generation of technology \n",
      "and the opportunity it will help unlock for every country, community, and individual, while mitigating its risks.  \n",
      "Here are just a few examples of how we are already doing this:  \n",
      "• Leading electronic health records vendor Epic is addressing some of the biggest challenges facing the...\n",
      "Chunk 2:\n",
      "Chunk text: more remains constant. As a company, we believe we can be the democratizing force for this new generation of technology \n",
      "and the opportunity it will help unlock for every country, community, and individual, while mitigating its risks.  \n",
      "Here are just a few examples of how we are already doing this:  \n",
      "• Leading electronic health records vendor Epic is addressing some of the biggest challenges facing the \n",
      "healthcare industry today—including physician burnout—by deploying a wide range of copilot solutions built on \n",
      "Azure OpenAI Service and Dragon Ambient eXperience Copilot.  \n",
      "• Mercado Libre is reducing the time its developers spend writing code by more than 50  percent with GitHub \n",
      "Copilot, as the company works to democratize e-commerce across Latin America.  \n",
      "• Mercedes-Benz is making its in -car voice assistant more intuitive for hundreds of thousands of drivers using \n",
      "ChatGPT via the Azure OpenAI Service....\n",
      "Chunk 3:\n",
      "Chunk text: Azure OpenAI Service and Dragon Ambient eXperience Copilot.  \n",
      "• Mercado Libre is reducing the time its developers spend writing code by more than 50  percent with GitHub \n",
      "Copilot, as the company works to democratize e-commerce across Latin America.  \n",
      "• Mercedes-Benz is making its in -car voice assistant more intuitive for hundreds of thousands of drivers using \n",
      "ChatGPT via the Azure OpenAI Service.  \n",
      "• Lumen Technologies is helping its employees be more productive, enabling them to focus on higher value -\n",
      "added activities, by deploying Microsoft 365 Copilot.  \n",
      "• Nonprofit The Contingent is matching foster families with children in need using Dynamics 365, Power BI, and \n",
      "Azure, with an eye on using AI to amplify its work across the US.  \n",
      "• And, Taiwan’s Ministry of Education has built an online platform to help elementary and high school students \n",
      "learn English using Azure AI....\n",
      "Chunk 4:\n",
      "Chunk text: • Lumen Technologies is helping its employees be more productive, enabling them to focus on higher value -\n",
      "added activities, by deploying Microsoft 365 Copilot.  \n",
      "• Nonprofit The Contingent is matching foster families with children in need using Dynamics 365, Power BI, and \n",
      "Azure, with an eye on using AI to amplify its work across the US.  \n",
      "• And, Taiwan’s Ministry of Education has built an online platform to help elementary and high school students \n",
      "learn English using Azure AI.  \n",
      "To build on this progress, we remain convicted on three things: First, we will maintain our lead as the top commercial cloud \n",
      "while innovating in consumer categories, from gaming to professional social networks. Second, because we know that \n",
      "maximum enterprise value gets created during platform shifts like this one, we will invest to accelerate our lead in AI by \n",
      "infusing this technology across every layer of the tech stack. And, finally, we will continue to drive operating leverage,...\n"
     ]
    }
   ],
   "source": [
    "doc = chunks[:5]\n",
    "for i in range(0, len(doc)):\n",
    "    print(f\"Chunk {i}:\")\n",
    "    print(f\"Chunk text: {doc[i].page_content}...\") "
   ]
  },
  {
   "cell_type": "code",
   "execution_count": null,
   "id": "a22a2bd4",
   "metadata": {},
   "outputs": [
    {
     "name": "stderr",
     "output_type": "stream",
     "text": [
      "C:\\Users\\const\\AppData\\Local\\Temp\\ipykernel_8936\\478290704.py:13: LangChainDeprecationWarning: The class `OpenAIEmbeddings` was deprecated in LangChain 0.0.9 and will be removed in 1.0. An updated version of the class exists in the :class:`~langchain-openai package and should be used instead. To use it run `pip install -U :class:`~langchain-openai` and import as `from :class:`~langchain_openai import OpenAIEmbeddings``.\n",
      "  embeddings = OpenAIEmbeddings(model=\"text-embedding-3-small\", openai_api_type=openai_api_type)\n"
     ]
    },
    {
     "name": "stdout",
     "output_type": "stream",
     "text": [
      "Vector store saved to chroma\n"
     ]
    }
   ],
   "source": [
    "def save_vector_store():\n",
    "    \"\"\"Save the vector store to the specified directory.\"\"\"\n",
    "    CHROMA_PATH = \"chroma\"\n",
    "\n",
    "    # Clear out the database first\n",
    "    if os.path.exists(CHROMA_PATH):\n",
    "        shutil.rmtree(CHROMA_PATH)\n",
    "    \n",
    "    # embeddings = HuggingFaceEmbeddings(model_name=\"all-MiniLM-L6-v2\")\n",
    "    from dotenv import load_dotenv\n",
    "    load_dotenv()\n",
    "    openai_api_type = os.getenv(\"OPENAI_API_TYPE\", \"open_ai\")\n",
    "    embeddings = OpenAIEmbeddings(model=\"text-embedding-3-large\", openai_api_type=openai_api_type)\n",
    "    Chroma.from_documents(\n",
    "        chunks, embeddings, persist_directory=CHROMA_PATH\n",
    "    )\n",
    "    print(f\"Vector store saved to {CHROMA_PATH}\")\n",
    "\n",
    "save_vector_store()"
   ]
  },
  {
   "cell_type": "markdown",
   "id": "e94f8a66",
   "metadata": {},
   "source": [
    "# Inference Pipeline"
   ]
  },
  {
   "cell_type": "code",
   "execution_count": 2,
   "id": "392c0b35",
   "metadata": {},
   "outputs": [
    {
     "name": "stderr",
     "output_type": "stream",
     "text": [
      "C:\\Users\\const\\AppData\\Local\\Temp\\ipykernel_14488\\2072244727.py:5: LangChainDeprecationWarning: The class `OpenAIEmbeddings` was deprecated in LangChain 0.0.9 and will be removed in 1.0. An updated version of the class exists in the :class:`~langchain-openai package and should be used instead. To use it run `pip install -U :class:`~langchain-openai` and import as `from :class:`~langchain_openai import OpenAIEmbeddings``.\n",
      "  embeddings = OpenAIEmbeddings(model=\"text-embedding-3-small\", openai_api_type=openai_api_type)\n",
      "C:\\Users\\const\\AppData\\Local\\Temp\\ipykernel_14488\\2072244727.py:8: LangChainDeprecationWarning: The class `Chroma` was deprecated in LangChain 0.2.9 and will be removed in 1.0. An updated version of the class exists in the :class:`~langchain-chroma package and should be used instead. To use it run `pip install -U :class:`~langchain-chroma` and import as `from :class:`~langchain_chroma import Chroma``.\n",
      "  db = Chroma(\n"
     ]
    }
   ],
   "source": [
    "# embeddings = HuggingFaceEmbeddings(model_name=\"all-MiniLM-L6-v2\")\n",
    "from dotenv import load_dotenv\n",
    "load_dotenv()\n",
    "openai_api_type = os.getenv(\"OPENAI_API_TYPE\", \"open_ai\")\n",
    "embeddings = OpenAIEmbeddings(model=\"text-embedding-3-small\", openai_api_type=openai_api_type)\n",
    "CHROMA_PATH = \"chroma\"\n",
    "\n",
    "db = Chroma(\n",
    "    persist_directory=CHROMA_PATH,\n",
    "    embedding_function=embeddings\n",
    ")"
   ]
  },
  {
   "cell_type": "code",
   "execution_count": null,
   "id": "11bb6e04",
   "metadata": {},
   "outputs": [
    {
     "data": {
      "text/plain": [
       "[Document(metadata={'creationdate': '2025-07-06T09:33:19+08:00', 'creator': 'Microsoft® Word for Microsoft 365', 'page_label': '6', 'total_pages': 85, 'start_index': 3019, 'producer': 'Microsoft® Word for Microsoft 365', 'moddate': '2025-07-06T09:33:19+08:00', 'source': 'data\\\\2023_Annual_Report.pdf', 'page': 5}, page_content='meaningful choices about how their data is used.  \\nHow can we protect fundamental rights?  \\nIn an increasingly digital world, we have a responsibility to promote and protect people’s fundamental rights and address \\nthe challenges technology creates. For us, this means upholding responsible business practices, expanding connectivity \\nand accessibility, advancing fair and inclusive societies, and empowering communities.  \\nIn 2023, we worked diligently to anticipate harmful uses of our technology and put guardrails on the use of technologies that \\nare consequential to people’s lives or legal status, create risk of harm, or threaten human rights. We will continue to assess \\nthe impact of our technologies, engage our stakeholders, and model and adopt responsible practices and respect for human \\nrights—including across our global supply chain.  \\nToday, our lives are more connected than ever. Access to education, employment, healthcare, and other critical services is'),\n",
       " Document(metadata={'creationdate': '2025-07-06T09:33:19+08:00', 'total_pages': 85, 'start_index': 2467, 'creator': 'Microsoft® Word for Microsoft 365', 'moddate': '2025-07-06T09:33:19+08:00', 'producer': 'Microsoft® Word for Microsoft 365', 'page_label': '5', 'page': 4, 'source': 'data\\\\2023_Annual_Report.pdf'}, page_content='As we pursue our opportunity, we are also working to ensure technology helps us solve problems —not create new ones. \\nTo do this, we focus on four enduring commitments that are central to our mission and that take on even greater importance \\nin this new era. For us, these commitments are more than just words. They’re a guide to help us make decisions across \\neverything we do—as we design and develop products, shape business processes and policies, help our customers thrive, \\nbuild partnerships, and more—always asking ourselves critical questions to ensure our actions are aligned with them.  \\nHow can we expand opportunity?  \\nFirst, we believe access to economic growth and opportunity should reach every person, organization, community, and \\ncountry. And although AI can serve as a catalyst for opportunity and growth, we must first ensure everyone has access to \\nthe technologies, data, and skills they need to benefit.'),\n",
       " Document(metadata={'moddate': '2025-07-06T09:33:19+08:00', 'source': 'data\\\\2023_Annual_Report.pdf', 'creationdate': '2025-07-06T09:33:19+08:00', 'page_label': '6', 'start_index': 2450, 'page': 5, 'total_pages': 85, 'producer': 'Microsoft® Word for Microsoft 365', 'creator': 'Microsoft® Word for Microsoft 365'}, page_content='address terrorist an d violent and extremist content online. And through the World Economic Forum’s Global Coalition for \\nDigital Safety, we co-led the development of new global principles for digital safety.  \\nProtecting customers’ privacy and giving them control of their data is more important than ever. We’ve begun our phased \\nrollout of the EU Data Boundary, supporting our commercial and public sector customers’ need for data sovereignty. And \\neach month, more than 3  million people exercise their data protection rights through our privacy dashboard, making \\nmeaningful choices about how their data is used.  \\nHow can we protect fundamental rights?  \\nIn an increasingly digital world, we have a responsibility to promote and protect people’s fundamental rights and address \\nthe challenges technology creates. For us, this means upholding responsible business practices, expanding connectivity \\nand accessibility, advancing fair and inclusive societies, and empowering communities.')]"
      ]
     },
     "execution_count": 3,
     "metadata": {},
     "output_type": "execute_result"
    }
   ],
   "source": [
    "# Search the DB\n",
    "results = db.similarity_search(\"What is the main idea of the document?\", k=3) \n",
    "if len(results) == 0:\n",
    "\tprint(f\"Unable to find matching results.\")\n",
    "results"
   ]
  },
  {
   "cell_type": "code",
   "execution_count": 4,
   "id": "ba3bf132",
   "metadata": {},
   "outputs": [
    {
     "name": "stdout",
     "output_type": "stream",
     "text": [
      "Context: meaningful choices about how their data is used.  \n",
      "How can we protect fundamental rights?  \n",
      "In an increasingly digital world, we have a responsibility to promote and protect people’s fundamental rights and address \n",
      "the challenges technology creates. For us, this means upholding responsible business practices, expanding connectivity \n",
      "and accessibility, advancing fair and inclusive societies, and empowering communities.  \n",
      "In 2023, we worked diligently to anticipate harmful uses of our technology and put guardrails on the use of technologies that \n",
      "are consequential to people’s lives or legal status, create risk of harm, or threaten human rights. We will continue to assess \n",
      "the impact of our technologies, engage our stakeholders, and model and adopt responsible practices and respect for human \n",
      "rights—including across our global supply chain.  \n",
      "Today, our lives are more connected than ever. Access to education, employment, healthcare, and other critical services is\n",
      "\n",
      "---\n",
      "\n",
      "As we pursue our opportunity, we are also working to ensure technology helps us solve problems —not create new ones. \n",
      "To do this, we focus on four enduring commitments that are central to our mission and that take on even greater importance \n",
      "in this new era. For us, these commitments are more than just words. They’re a guide to help us make decisions across \n",
      "everything we do—as we design and develop products, shape business processes and policies, help our customers thrive, \n",
      "build partnerships, and more—always asking ourselves critical questions to ensure our actions are aligned with them.  \n",
      "How can we expand opportunity?  \n",
      "First, we believe access to economic growth and opportunity should reach every person, organization, community, and \n",
      "country. And although AI can serve as a catalyst for opportunity and growth, we must first ensure everyone has access to \n",
      "the technologies, data, and skills they need to benefit.\n",
      "\n",
      "---\n",
      "\n",
      "address terrorist an d violent and extremist content online. And through the World Economic Forum’s Global Coalition for \n",
      "Digital Safety, we co-led the development of new global principles for digital safety.  \n",
      "Protecting customers’ privacy and giving them control of their data is more important than ever. We’ve begun our phased \n",
      "rollout of the EU Data Boundary, supporting our commercial and public sector customers’ need for data sovereignty. And \n",
      "each month, more than 3  million people exercise their data protection rights through our privacy dashboard, making \n",
      "meaningful choices about how their data is used.  \n",
      "How can we protect fundamental rights?  \n",
      "In an increasingly digital world, we have a responsibility to promote and protect people’s fundamental rights and address \n",
      "the challenges technology creates. For us, this means upholding responsible business practices, expanding connectivity \n",
      "and accessibility, advancing fair and inclusive societies, and empowering communities....\n"
     ]
    }
   ],
   "source": [
    "context = \"\\n\\n---\\n\\n\".join([result.page_content for result in results])\n",
    "print(f\"Context: {context}...\")  # Print first 500 characters of the context"
   ]
  },
  {
   "cell_type": "code",
   "execution_count": null,
   "id": "27c41aa4",
   "metadata": {},
   "outputs": [],
   "source": [
    "PROMPT_TEMPLATE = \"\"\"\n",
    "Answer the question based only on the following context:\n",
    "\n",
    "{context}\n",
    "\n",
    "---\n",
    "\n",
    "Answer the question based on the above context: {query}\n",
    "\"\"\""
   ]
  },
  {
   "cell_type": "code",
   "execution_count": 6,
   "id": "a28e1869",
   "metadata": {},
   "outputs": [],
   "source": [
    "from langchain.prompts import ChatPromptTemplate"
   ]
  },
  {
   "cell_type": "code",
   "execution_count": null,
   "id": "63401f36",
   "metadata": {},
   "outputs": [
    {
     "name": "stdout",
     "output_type": "stream",
     "text": [
      "Human: \n",
      "Answer the question based only on the following context:\n",
      "\n",
      "meaningful choices about how their data is used.  \n",
      "How can we protect fundamental rights?  \n",
      "In an increasingly digital world, we have a responsibility to promote and protect people’s fundamental rights and address \n",
      "the challenges technology creates. For us, this means upholding responsible business practices, expanding connectivity \n",
      "and accessibility, advancing fair and inclusive societies, and empowering communities.  \n",
      "In 2023, we worked diligently to anticipate harmful uses of our technology and put guardrails on the use of technologies that \n",
      "are consequential to people’s lives or legal status, create risk of harm, or threaten human rights. We will continue to assess \n",
      "the impact of our technologies, engage our stakeholders, and model and adopt responsible practices and respect for human \n",
      "rights—including across our global supply chain.  \n",
      "Today, our lives are more connected than ever. Access to education, employment, healthcare, and other critical services is\n",
      "\n",
      "---\n",
      "\n",
      "As we pursue our opportunity, we are also working to ensure technology helps us solve problems —not create new ones. \n",
      "To do this, we focus on four enduring commitments that are central to our mission and that take on even greater importance \n",
      "in this new era. For us, these commitments are more than just words. They’re a guide to help us make decisions across \n",
      "everything we do—as we design and develop products, shape business processes and policies, help our customers thrive, \n",
      "build partnerships, and more—always asking ourselves critical questions to ensure our actions are aligned with them.  \n",
      "How can we expand opportunity?  \n",
      "First, we believe access to economic growth and opportunity should reach every person, organization, community, and \n",
      "country. And although AI can serve as a catalyst for opportunity and growth, we must first ensure everyone has access to \n",
      "the technologies, data, and skills they need to benefit.\n",
      "\n",
      "---\n",
      "\n",
      "address terrorist an d violent and extremist content online. And through the World Economic Forum’s Global Coalition for \n",
      "Digital Safety, we co-led the development of new global principles for digital safety.  \n",
      "Protecting customers’ privacy and giving them control of their data is more important than ever. We’ve begun our phased \n",
      "rollout of the EU Data Boundary, supporting our commercial and public sector customers’ need for data sovereignty. And \n",
      "each month, more than 3  million people exercise their data protection rights through our privacy dashboard, making \n",
      "meaningful choices about how their data is used.  \n",
      "How can we protect fundamental rights?  \n",
      "In an increasingly digital world, we have a responsibility to promote and protect people’s fundamental rights and address \n",
      "the challenges technology creates. For us, this means upholding responsible business practices, expanding connectivity \n",
      "and accessibility, advancing fair and inclusive societies, and empowering communities.\n",
      "\n",
      "---\n",
      "\n",
      "Answer the question based on the above context: Why can't we be together?\n",
      "\n"
     ]
    }
   ],
   "source": [
    "question = \"summarize the documents?\"\n",
    "prompt_template = ChatPromptTemplate.from_template(PROMPT_TEMPLATE)\n",
    "prompt = prompt_template.format(context=context, query=question)\n",
    "print(prompt)"
   ]
  },
  {
   "cell_type": "code",
   "execution_count": 8,
   "id": "6486c273",
   "metadata": {},
   "outputs": [
    {
     "name": "stderr",
     "output_type": "stream",
     "text": [
      "C:\\Users\\const\\AppData\\Local\\Temp\\ipykernel_14488\\4203281553.py:6: LangChainDeprecationWarning: The method `BaseChatModel.predict` was deprecated in langchain-core 0.1.7 and will be removed in 1.0. Use :meth:`~invoke` instead.\n",
      "  response_text = model.predict(prompt)\n"
     ]
    },
    {
     "name": "stdout",
     "output_type": "stream",
     "text": [
      "Response: The provided context does not mention anything about people not being able to be together. The focus of the text is on promoting and protecting fundamental rights in an increasingly digital world, addressing challenges created by technology, protecting customers' privacy, and expanding opportunities for economic growth and access to technology. The context does not provide any information relevant to why people cannot be together.\n"
     ]
    }
   ],
   "source": [
    "from langchain_openai import ChatOpenAI\n",
    "from dotenv import load_dotenv\n",
    "load_dotenv()\n",
    "OPENAI_API_KEY = os.getenv(\"OPENAI_API_KEY\")\n",
    "model = ChatOpenAI(openai_api_key=OPENAI_API_KEY)\n",
    "response_text = model.predict(prompt)\n",
    "print(f\"Response: {response_text}\")"
   ]
  }
 ],
 "metadata": {
  "kernelspec": {
   "display_name": "venv",
   "language": "python",
   "name": "python3"
  },
  "language_info": {
   "codemirror_mode": {
    "name": "ipython",
    "version": 3
   },
   "file_extension": ".py",
   "mimetype": "text/x-python",
   "name": "python",
   "nbconvert_exporter": "python",
   "pygments_lexer": "ipython3",
   "version": "3.12.3"
  }
 },
 "nbformat": 4,
 "nbformat_minor": 5
}
